{
  "nbformat": 4,
  "nbformat_minor": 0,
  "metadata": {
    "colab": {
      "name": "books_recommendation_data_creation.ipynb",
      "provenance": [],
      "collapsed_sections": []
    },
    "kernelspec": {
      "name": "python3",
      "display_name": "Python 3"
    },
    "language_info": {
      "name": "python"
    }
  },
  "cells": [
    {
      "cell_type": "code",
      "execution_count": null,
      "metadata": {
        "id": "WQ7wl5w_m4c3"
      },
      "outputs": [],
      "source": [
        "import csv\n",
        "import random\n",
        "goodreads_book_dict = {}\n",
        "book_dict = {}\n",
        "goodreads_book_id = []\n",
        "book_id = []\n",
        "create_books_data = []\n",
        "with open('/content/books_data.csv','r') as csvfile:\n",
        "  spamreader = csv.reader(csvfile, delimiter=';')\n",
        "  for row in spamreader:\n",
        "    goodreads_book_id.append(row[1])\n",
        "    book_id.append(row[0])\n",
        "    row[5] = row[5] if row[5] else str(random.randint(100,10000000))\n",
        "    create_books_data.append(row)\n",
        "    goodreads_book_dict[row[1]] = row[5]\n",
        "    book_dict[row[0]] = row[5]\n",
        "\n",
        "create_books_data = create_books_data[1:]\n",
        "goodreads_book_id = goodreads_book_id[1:]\n",
        "book_id = book_id[1:]"
      ]
    },
    {
      "cell_type": "code",
      "source": [
        "with open(\"books_queries.txt\", 'w') as file:\n",
        "  for row in create_books_data:\n",
        "    year = row[8].split('.')[0] if row[8] else \"0\"\n",
        "    title = row[10].replace('\"', '')\n",
        "    query = \"CREATE (p:Book { isbn: \\\"\"+row[5]+\"\\\", year: \"+year+\", title: \\\"\"+title+\"\\\", image: \\\"\"+row[21]+\"\\\" }) RETURN p;\\n\"\n",
        "    file.write(query)"
      ],
      "metadata": {
        "id": "6sc5zwJwzufu"
      },
      "execution_count": null,
      "outputs": []
    },
    {
      "cell_type": "code",
      "source": [
        "book_tags = []\n",
        "tag_id = []\n",
        "\n",
        "with open('/content/book_tags.csv') as csvfile:\n",
        "  spamreader = csv.reader(csvfile, delimiter=',')\n",
        "  for row in spamreader:\n",
        "    if row[0] in goodreads_book_id:\n",
        "      book_tags.append(row)\n",
        "      if row[1] not in tag_id:\n",
        "        tag_id.append(row[1])"
      ],
      "metadata": {
        "id": "M2igyDh8n9TI"
      },
      "execution_count": null,
      "outputs": []
    },
    {
      "cell_type": "code",
      "source": [
        "tags = []\n",
        "with open('/content/tags.csv') as csvfile:\n",
        "  spamreader = csv.reader(csvfile, delimiter=',')\n",
        "  for row in spamreader:\n",
        "    if row[0] in tag_id:\n",
        "      tags.append(row)"
      ],
      "metadata": {
        "id": "PnRfVYk9oeFz"
      },
      "execution_count": null,
      "outputs": []
    },
    {
      "cell_type": "code",
      "source": [
        "tags_dict = {}\n",
        "with open(\"tags_queries.txt\", 'w') as file:\n",
        "  for row in tags:\n",
        "    query = \"CREATE (p:Tag { name: \\\"\"+row[1]+\"\\\" }) RETURN p;\\n\"\n",
        "    file.write(query)\n",
        "    tags_dict[row[0]] = row[1]"
      ],
      "metadata": {
        "id": "-4raiNAErnFs"
      },
      "execution_count": null,
      "outputs": []
    },
    {
      "cell_type": "code",
      "source": [
        "with open(\"books_tags_queries.txt\", 'w') as file:\n",
        "  for row in book_tags:\n",
        "    tag = tags_dict[row[1]]\n",
        "    isbn = goodreads_book_dict[row[0]]\n",
        "    query = \"MATCH (t:Tag) WHERE t.name = \\\"\" +tag+\"\\\" MATCH (b:Book) WHERE b.isbn = \\\"\"+isbn+\"\\\" CREATE (b)-[:IN_TAG {count: \"+row[2]+\" }]->(t) RETURN t, b;\\n\"\n",
        "    file.write(query)"
      ],
      "metadata": {
        "id": "XULWF2ee3Yt6"
      },
      "execution_count": null,
      "outputs": []
    },
    {
      "cell_type": "code",
      "source": [
        "ratings = []\n",
        "users = []\n",
        "book_id_reviews = {}\n",
        "with open('/content/ratings.csv') as csvfile:\n",
        "  spamreader = csv.reader(csvfile, delimiter=',')\n",
        "  for row in spamreader:\n",
        "    if row[1] in book_id:\n",
        "      book_id_reviews.setdefault(row[1], []).append(1)\n",
        "      if len(book_id_reviews[row[1]]) < 50:\n",
        "        ratings.append(row)\n",
        "        users.append(row[0])"
      ],
      "metadata": {
        "colab": {
          "base_uri": "https://localhost:8080/"
        },
        "id": "ZDH4jh4VpSAT",
        "outputId": "d3f66e78-507c-4341-e166-03b546d3b1d7"
      },
      "execution_count": null,
      "outputs": [
        {
          "output_type": "stream",
          "name": "stdout",
          "text": [
            "24500\n"
          ]
        }
      ]
    },
    {
      "cell_type": "code",
      "source": [
        "users_set = set(users)\n",
        "unique_users = (list(users_set))"
      ],
      "metadata": {
        "colab": {
          "base_uri": "https://localhost:8080/"
        },
        "id": "fQ7OLQjWqfT-",
        "outputId": "34d1402d-65aa-42ee-9733-1e14b5baf91b"
      },
      "execution_count": null,
      "outputs": [
        {
          "output_type": "stream",
          "name": "stdout",
          "text": [
            "6276\n"
          ]
        }
      ]
    },
    {
      "cell_type": "code",
      "source": [
        "!pip install names"
      ],
      "metadata": {
        "colab": {
          "base_uri": "https://localhost:8080/"
        },
        "id": "vFFeLzLrtMiW",
        "outputId": "8461dcd6-ac4f-422c-97c4-3d25eb72ed14"
      },
      "execution_count": null,
      "outputs": [
        {
          "output_type": "stream",
          "name": "stdout",
          "text": [
            "Collecting names\n",
            "  Downloading names-0.3.0.tar.gz (789 kB)\n",
            "\u001b[?25l\r\u001b[K     |▍                               | 10 kB 27.2 MB/s eta 0:00:01\r\u001b[K     |▉                               | 20 kB 24.5 MB/s eta 0:00:01\r\u001b[K     |█▎                              | 30 kB 21.9 MB/s eta 0:00:01\r\u001b[K     |█▋                              | 40 kB 17.8 MB/s eta 0:00:01\r\u001b[K     |██                              | 51 kB 7.3 MB/s eta 0:00:01\r\u001b[K     |██▌                             | 61 kB 8.5 MB/s eta 0:00:01\r\u001b[K     |███                             | 71 kB 7.8 MB/s eta 0:00:01\r\u001b[K     |███▎                            | 81 kB 8.1 MB/s eta 0:00:01\r\u001b[K     |███▊                            | 92 kB 8.9 MB/s eta 0:00:01\r\u001b[K     |████▏                           | 102 kB 7.0 MB/s eta 0:00:01\r\u001b[K     |████▋                           | 112 kB 7.0 MB/s eta 0:00:01\r\u001b[K     |█████                           | 122 kB 7.0 MB/s eta 0:00:01\r\u001b[K     |█████▍                          | 133 kB 7.0 MB/s eta 0:00:01\r\u001b[K     |█████▉                          | 143 kB 7.0 MB/s eta 0:00:01\r\u001b[K     |██████▎                         | 153 kB 7.0 MB/s eta 0:00:01\r\u001b[K     |██████▋                         | 163 kB 7.0 MB/s eta 0:00:01\r\u001b[K     |███████                         | 174 kB 7.0 MB/s eta 0:00:01\r\u001b[K     |███████▌                        | 184 kB 7.0 MB/s eta 0:00:01\r\u001b[K     |████████                        | 194 kB 7.0 MB/s eta 0:00:01\r\u001b[K     |████████▎                       | 204 kB 7.0 MB/s eta 0:00:01\r\u001b[K     |████████▊                       | 215 kB 7.0 MB/s eta 0:00:01\r\u001b[K     |█████████▏                      | 225 kB 7.0 MB/s eta 0:00:01\r\u001b[K     |█████████▌                      | 235 kB 7.0 MB/s eta 0:00:01\r\u001b[K     |██████████                      | 245 kB 7.0 MB/s eta 0:00:01\r\u001b[K     |██████████▍                     | 256 kB 7.0 MB/s eta 0:00:01\r\u001b[K     |██████████▉                     | 266 kB 7.0 MB/s eta 0:00:01\r\u001b[K     |███████████▏                    | 276 kB 7.0 MB/s eta 0:00:01\r\u001b[K     |███████████▋                    | 286 kB 7.0 MB/s eta 0:00:01\r\u001b[K     |████████████                    | 296 kB 7.0 MB/s eta 0:00:01\r\u001b[K     |████████████▌                   | 307 kB 7.0 MB/s eta 0:00:01\r\u001b[K     |████████████▉                   | 317 kB 7.0 MB/s eta 0:00:01\r\u001b[K     |█████████████▎                  | 327 kB 7.0 MB/s eta 0:00:01\r\u001b[K     |█████████████▊                  | 337 kB 7.0 MB/s eta 0:00:01\r\u001b[K     |██████████████▏                 | 348 kB 7.0 MB/s eta 0:00:01\r\u001b[K     |██████████████▌                 | 358 kB 7.0 MB/s eta 0:00:01\r\u001b[K     |███████████████                 | 368 kB 7.0 MB/s eta 0:00:01\r\u001b[K     |███████████████▍                | 378 kB 7.0 MB/s eta 0:00:01\r\u001b[K     |███████████████▉                | 389 kB 7.0 MB/s eta 0:00:01\r\u001b[K     |████████████████▏               | 399 kB 7.0 MB/s eta 0:00:01\r\u001b[K     |████████████████▋               | 409 kB 7.0 MB/s eta 0:00:01\r\u001b[K     |█████████████████               | 419 kB 7.0 MB/s eta 0:00:01\r\u001b[K     |█████████████████▍              | 430 kB 7.0 MB/s eta 0:00:01\r\u001b[K     |█████████████████▉              | 440 kB 7.0 MB/s eta 0:00:01\r\u001b[K     |██████████████████▎             | 450 kB 7.0 MB/s eta 0:00:01\r\u001b[K     |██████████████████▊             | 460 kB 7.0 MB/s eta 0:00:01\r\u001b[K     |███████████████████             | 471 kB 7.0 MB/s eta 0:00:01\r\u001b[K     |███████████████████▌            | 481 kB 7.0 MB/s eta 0:00:01\r\u001b[K     |████████████████████            | 491 kB 7.0 MB/s eta 0:00:01\r\u001b[K     |████████████████████▍           | 501 kB 7.0 MB/s eta 0:00:01\r\u001b[K     |████████████████████▊           | 512 kB 7.0 MB/s eta 0:00:01\r\u001b[K     |█████████████████████▏          | 522 kB 7.0 MB/s eta 0:00:01\r\u001b[K     |█████████████████████▋          | 532 kB 7.0 MB/s eta 0:00:01\r\u001b[K     |██████████████████████          | 542 kB 7.0 MB/s eta 0:00:01\r\u001b[K     |██████████████████████▍         | 552 kB 7.0 MB/s eta 0:00:01\r\u001b[K     |██████████████████████▉         | 563 kB 7.0 MB/s eta 0:00:01\r\u001b[K     |███████████████████████▎        | 573 kB 7.0 MB/s eta 0:00:01\r\u001b[K     |███████████████████████▊        | 583 kB 7.0 MB/s eta 0:00:01\r\u001b[K     |████████████████████████        | 593 kB 7.0 MB/s eta 0:00:01\r\u001b[K     |████████████████████████▌       | 604 kB 7.0 MB/s eta 0:00:01\r\u001b[K     |█████████████████████████       | 614 kB 7.0 MB/s eta 0:00:01\r\u001b[K     |█████████████████████████▎      | 624 kB 7.0 MB/s eta 0:00:01\r\u001b[K     |█████████████████████████▊      | 634 kB 7.0 MB/s eta 0:00:01\r\u001b[K     |██████████████████████████▏     | 645 kB 7.0 MB/s eta 0:00:01\r\u001b[K     |██████████████████████████▋     | 655 kB 7.0 MB/s eta 0:00:01\r\u001b[K     |███████████████████████████     | 665 kB 7.0 MB/s eta 0:00:01\r\u001b[K     |███████████████████████████▍    | 675 kB 7.0 MB/s eta 0:00:01\r\u001b[K     |███████████████████████████▉    | 686 kB 7.0 MB/s eta 0:00:01\r\u001b[K     |████████████████████████████▎   | 696 kB 7.0 MB/s eta 0:00:01\r\u001b[K     |████████████████████████████▋   | 706 kB 7.0 MB/s eta 0:00:01\r\u001b[K     |█████████████████████████████   | 716 kB 7.0 MB/s eta 0:00:01\r\u001b[K     |█████████████████████████████▌  | 727 kB 7.0 MB/s eta 0:00:01\r\u001b[K     |██████████████████████████████  | 737 kB 7.0 MB/s eta 0:00:01\r\u001b[K     |██████████████████████████████▎ | 747 kB 7.0 MB/s eta 0:00:01\r\u001b[K     |██████████████████████████████▊ | 757 kB 7.0 MB/s eta 0:00:01\r\u001b[K     |███████████████████████████████▏| 768 kB 7.0 MB/s eta 0:00:01\r\u001b[K     |███████████████████████████████▋| 778 kB 7.0 MB/s eta 0:00:01\r\u001b[K     |████████████████████████████████| 788 kB 7.0 MB/s eta 0:00:01\r\u001b[K     |████████████████████████████████| 789 kB 7.0 MB/s \n",
            "\u001b[?25hBuilding wheels for collected packages: names\n",
            "  Building wheel for names (setup.py) ... \u001b[?25l\u001b[?25hdone\n",
            "  Created wheel for names: filename=names-0.3.0-py3-none-any.whl size=803698 sha256=36d780718da20e3a1d37889bd83d88ec7590bc5ddafcb75b79f0d82cb55052c5\n",
            "  Stored in directory: /root/.cache/pip/wheels/05/ea/68/92f6b0669e478af9b7c3c524520d03050089e034edcc775c2b\n",
            "Successfully built names\n",
            "Installing collected packages: names\n",
            "Successfully installed names-0.3.0\n"
          ]
        }
      ]
    },
    {
      "cell_type": "code",
      "source": [
        "import names\n",
        "\n",
        "users = []\n",
        "users_dict = {}\n",
        "for user_id in unique_users:\n",
        "  username = names.get_full_name().replace(' ', '_')\n",
        "  users.append([user_id, username])\n",
        "  users_dict[user_id] = email"
      ],
      "metadata": {
        "id": "H6mI9xROs_A1"
      },
      "execution_count": null,
      "outputs": []
    },
    {
      "cell_type": "code",
      "source": [
        "with open(\"users_queries.txt\", 'w') as file:\n",
        "  for row in users:\n",
        "    query = \"CREATE (p:User { username: \\\"\"+row[1]+\"\\\",  password: \\\"\"+row[2]+\"\\\" }) RETURN p;\\n\"\n",
        "    file.write(query)"
      ],
      "metadata": {
        "id": "zpXoiZsRt0p0"
      },
      "execution_count": null,
      "outputs": []
    },
    {
      "cell_type": "code",
      "source": [
        "with open(\"users_ratings_queries.txt\", 'w') as file:\n",
        "  for row in ratings:\n",
        "    email = users_dict[row[0]]\n",
        "    isbn = book_dict[row[1]]\n",
        "    query = \"MATCH (u:User) WHERE u.email = \\\"\"+email+\"\\\" MATCH (b:Book) WHERE b.isbn = \\\"\"+isbn+\"\\\" CREATE (u)-[r:RATED {rating: \"+row[2]+\"}]->(b) RETURN u, b, r;\\n\"\n",
        "    file.write(query)"
      ],
      "metadata": {
        "id": "ztmjB9T-6Smd"
      },
      "execution_count": null,
      "outputs": []
    },
    {
      "cell_type": "code",
      "source": [
        "authors = []\n",
        "for row in create_books_data:\n",
        "  temp = row[7].split(',')\n",
        "  for author in temp:\n",
        "    authors.append(\" \".join(author.split()))\n",
        "\n",
        "authors_set = set(authors)\n",
        "unique_authors = (list(authors_set))\n",
        "\n",
        "with open(\"authors_queries.txt\", 'w') as file:\n",
        "  for author in unique_authors:\n",
        "    query = \"CREATE (a:Author { name: \\\"\"+author+\"\\\" }) RETURN a;\\n\"\n",
        "    file.write(query)"
      ],
      "metadata": {
        "id": "NzVUwhb98sAc"
      },
      "execution_count": null,
      "outputs": []
    },
    {
      "cell_type": "code",
      "source": [
        "with open(\"authors_books_queries.txt\", 'w') as file:\n",
        "  for row in create_books_data:\n",
        "    authors = row[7]\n",
        "    authors = authors.split(',')\n",
        "    isbn = row[5]\n",
        "    for author in authors:\n",
        "      query = \"MATCH (a:Author) WHERE a.name = \\\"\"+\" \".join(author.split())+\"\\\" MATCH (b:Book) WHERE b.isbn = \\\"\"+ isbn +\"\\\" CREATE (a)-[:WROTE]->(b) RETURN a, b;\\n\"\n",
        "      file.write(query)"
      ],
      "metadata": {
        "id": "MawlA2zu9R2k"
      },
      "execution_count": null,
      "outputs": []
    },
    {
      "cell_type": "code",
      "source": [
        "users_emails = list(users_dict.values())\n",
        "with open(\"users_following_queries.txt\", 'w') as file:\n",
        "  for key, value in users_dict.items():\n",
        "    email = value\n",
        "    for _ in range(3):\n",
        "      email2 = random.choice(users_emails)\n",
        "      query = \"MATCH (p1:User) WHERE p1.email = \\\"\"+email+\"\\\" MATCH (p2:User) WHERE p2.email =\\\"\"+email2+\"\\\" CREATE (p1)-[:FOLLOWS]->(p2) RETURN p1, p2;\\n\"\n",
        "      file.write(query)"
      ],
      "metadata": {
        "id": "kGd2Wb18zg4j"
      },
      "execution_count": null,
      "outputs": []
    }
  ]
}
